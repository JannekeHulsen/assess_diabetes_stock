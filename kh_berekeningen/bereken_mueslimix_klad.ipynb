{
 "cells": [
  {
   "cell_type": "code",
   "execution_count": null,
   "metadata": {},
   "outputs": [],
   "source": []
  },
  {
   "cell_type": "code",
   "execution_count": null,
   "metadata": {},
   "outputs": [],
   "source": [
    "wheat_source = \"Zevengranenmix\"\n",
    "kh_table = None"
   ]
  },
  {
   "cell_type": "code",
   "execution_count": 46,
   "metadata": {},
   "outputs": [],
   "source": [
    "def calculate_m_wheat_in_mix(kh_wheat:float, m_raisin:float=10, kh_raisin:float=0.69, aim_kh:float=50):\n",
    "    \"\"\"\n",
    "    m_raisin: Mass of raisins added to the mix.\n",
    "    aim_kh: How much g kh should be in final mix.\n",
    "    kh_raisin: Kh per gram for raisins.\n",
    "    kh_wheat: Kh per gram for the wheat source.\n",
    "    \"\"\"\n",
    "    mix_raisin = m_raisin * kh_raisin\n",
    "    restant = aim_kh - mix_raisin\n",
    "    m_wheat = restant / kh_wheat\n",
    "    return int(round(m_wheat, 0))"
   ]
  },
  {
   "cell_type": "code",
   "execution_count": 47,
   "metadata": {},
   "outputs": [
    {
     "data": {
      "text/plain": [
       "62"
      ]
     },
     "execution_count": 47,
     "metadata": {},
     "output_type": "execute_result"
    }
   ],
   "source": [
    "# Zevengranenmix\n",
    "calculate_m_wheat_in_mix(kh_wheat=0.69) "
   ]
  },
  {
   "cell_type": "code",
   "execution_count": 48,
   "metadata": {},
   "outputs": [
    {
     "data": {
      "text/plain": [
       "57"
      ]
     },
     "execution_count": 48,
     "metadata": {},
     "output_type": "execute_result"
    }
   ],
   "source": [
    "# Gerst\n",
    "calculate_m_wheat_in_mix(kh_wheat=0.76)"
   ]
  },
  {
   "cell_type": "code",
   "execution_count": null,
   "metadata": {},
   "outputs": [],
   "source": [
    "def calculate_mix_of_two(kh_food1:float = None,\n",
    "                         kh_food2:float = None,\n",
    "                         aim_kh:float = None,\n",
    "                         fraction_food1 = None,\n",
    "                        #  m_food1:float = 0, # TODO should this be an option or not?\n",
    "                         m_food2:float = 0,\n",
    "                         name_food1:str = \"First food item\",\n",
    "                         name_food2:str = \"Second food item\"):\n",
    "    \"\"\"\n",
    "    Arguments:\n",
    "    kh_food1: Carbohydrates per 100g in first food item that is to be mixed.\n",
    "    kh_food2: Carbohydrates per 100g in second item.\n",
    "    aim_kh: How much g carbohydrates do you want in the final mix?\n",
    "    fraction_food1: Ratio of food item 1 and 2. What portion of total should be\n",
    "        food item 1? If None, all carbs will be filled up by item 1.\n",
    "    m_food2: How much grams of the second food item you already have.\n",
    "    name_food1: Provide the name of the first food item if you want. Not required.\n",
    "    name_food2: Name of second food item. Not required.\n",
    "    \"\"\"\n",
    "    # Make sure all input is given\n",
    "    assert aim_kh is not None, \"Please fill in how much carbs should be in final mix.\"\n",
    "    assert kh_food1 is not None, \"Please provide amount of carbohydrates per 100g\"\n",
    "    assert kh_food2 is not None, \"Please provide amount of carbohydrates per 100g\"\n",
    "\n",
    "    # Make it per gram\n",
    "    kh_food1 = kh_food1/100\n",
    "    kh_food2 = kh_food2/100\n",
    "\n",
    "    if fraction_food1 is None:\n",
    "        aim_food1 = aim_kh - m_food1*kh_food1 - m_food2*kh_food2 # if no fraction, e.g. mueslimix\n",
    "    else:\n",
    "        aim_food1 = aim_kh * fraction_food1 - m_food1 * kh_food1\n",
    "\n",
    "    print(f\"Voor {aim_kh}g kh totaal:\")\n",
    "    m_food1 = int(round(aim_food1 / kh_food1, 0))\n",
    "    print(f\"{name_food1}: {m_food1} g\")\n",
    "    aim_food2 = aim_kh - aim_food1\n",
    "    m_food2 = int(round(aim_food2 / kh_food2, 0))\n",
    "    print(f\"{name_food2}: {m_food2} g\")\n"
   ]
  },
  {
   "cell_type": "code",
   "execution_count": null,
   "metadata": {},
   "outputs": [
    {
     "name": "stdout",
     "output_type": "stream",
     "text": [
      "Voor 50g kh totaal:\n",
      "Pruimen: 44 g\n",
      "Verse dadels: 46 g\n"
     ]
    }
   ],
   "source": [
    "## TEST CASE 1 ##\n",
    "calculate_mix_of_two(kh_food1=57, kh_food2=54, fraction_food1=0.5, aim_kh=50, name_food1=\"Pruimen\", name_food2=\"Verse dadels\")\n",
    "# Voor 50g kh totaal:\n",
    "# Pruimen: 44 g\n",
    "# Verse dadels: 46 g"
   ]
  },
  {
   "cell_type": "code",
   "execution_count": null,
   "metadata": {},
   "outputs": [
    {
     "name": "stdout",
     "output_type": "stream",
     "text": [
      "Voor 50g kh totaal:\n",
      "Vlokken rogge: 71 g\n",
      "Rozijnen: 10 g\n"
     ]
    }
   ],
   "source": [
    "## TEST CASE 2 ##\n",
    "calculate_mix_of_two(kh_food1=61, kh_food2=69, aim_kh=50, name_food1=\"Vlokken rogge\", name_food2=\"Rozijnen\", m_food2=10)\n",
    "# Voor 50g kh totaal:\n",
    "# Vlokken rogge: 71 g\n",
    "# Rozijnen: 10 g"
   ]
  },
  {
   "cell_type": "code",
   "execution_count": 50,
   "metadata": {},
   "outputs": [
    {
     "data": {
      "text/plain": [
       "71"
      ]
     },
     "execution_count": 50,
     "metadata": {},
     "output_type": "execute_result"
    }
   ],
   "source": [
    "calculate_m_wheat_in_mix(kh_wheat=0.61)"
   ]
  },
  {
   "cell_type": "code",
   "execution_count": 55,
   "metadata": {},
   "outputs": [
    {
     "name": "stdout",
     "output_type": "stream",
     "text": [
      "Voor 100g kh totaal:\n",
      "Dadels: 162 g\n",
      "Pruimen: 22 g\n"
     ]
    }
   ],
   "source": [
    "## TEST CASE 1 ##\n",
    "calculate_mix_of_two(kh_food1=54, kh_food2=57, aim_kh=100, name_food1=\"Dadels\", name_food2=\"Pruimen\", m_food2=22)"
   ]
  },
  {
   "cell_type": "code",
   "execution_count": null,
   "metadata": {},
   "outputs": [],
   "source": []
  },
  {
   "cell_type": "code",
   "execution_count": null,
   "metadata": {},
   "outputs": [],
   "source": []
  },
  {
   "cell_type": "code",
   "execution_count": null,
   "metadata": {},
   "outputs": [],
   "source": []
  },
  {
   "cell_type": "code",
   "execution_count": null,
   "metadata": {},
   "outputs": [],
   "source": []
  }
 ],
 "metadata": {
  "kernelspec": {
   "display_name": "analysis",
   "language": "python",
   "name": "python3"
  },
  "language_info": {
   "codemirror_mode": {
    "name": "ipython",
    "version": 3
   },
   "file_extension": ".py",
   "mimetype": "text/x-python",
   "name": "python",
   "nbconvert_exporter": "python",
   "pygments_lexer": "ipython3",
   "version": "3.12.2"
  }
 },
 "nbformat": 4,
 "nbformat_minor": 2
}
