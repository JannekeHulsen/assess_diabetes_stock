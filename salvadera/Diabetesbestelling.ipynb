{
 "cells": [
  {
   "cell_type": "markdown",
   "id": "80d46080-77b9-4480-96df-929fea7b824d",
   "metadata": {},
   "source": [
    "# Hoeveel te bestellen."
   ]
  },
  {
   "cell_type": "code",
   "execution_count": 1,
   "id": "a09d741a-85fd-4c7a-bd59-9144fda4e00c",
   "metadata": {},
   "outputs": [],
   "source": [
    "import pandas as pd\n",
    "import math\n",
    "\n",
    "# Helper functions.\n",
    "def get_item_info():\n",
    "    item_info=pd.DataFrame({'Item':['Sensor', 'Infuusset', 'Reservoir'],\n",
    "                    'Days per unit':[7, 3, 3],\n",
    "                    'Units in package':[5,10,10],\n",
    "                    'Official name':['Guardian Sensor 4', 'Mio Advance 6mm 60cm', 'Medtr reservoir 3ml']\n",
    "                   })\n",
    "    return item_info\n",
    "\n",
    "def get_specifics(item_info, item):\n",
    "    specs = item_info.loc[item_info['Item'] == item].iloc[0]\n",
    "    days_per_unit, units_in_package, official_name = specs['Days per unit'], specs['Units in package'], specs['Official name']\n",
    "    \n",
    "    assert days_per_unit > 0 and units_in_package > 0, \"Days per unit and units in package should be positive.\"\n",
    "    \n",
    "    return days_per_unit, units_in_package, official_name\n",
    "\n",
    "def until_what_date_covered(stock:int,\n",
    "                            days_per_unit:float,\n",
    "                            units_in_package:int,\n",
    "                            order:int=0,\n",
    "                            margin:float=0.2,\n",
    "                            verbose:bool = True):\n",
    "    \n",
    "    days_covered = (stock*days_per_unit + order*units_in_package*days_per_unit)*(1-margin)\n",
    "    final_date = pd.to_datetime('today') + pd.DateOffset(days=days_covered)\n",
    "    final_date = final_date.strftime(\"%d-%m-%Y\")\n",
    "    \n",
    "    if verbose:\n",
    "        addition = ' including order' if order>0 else ''\n",
    "        print(f'{int(days_covered)} days are covered by stock{addition}.')\n",
    "    return final_date"
   ]
  },
  {
   "cell_type": "code",
   "execution_count": 2,
   "id": "9a3056f9-7db9-4ffd-8f28-0981f9c298db",
   "metadata": {},
   "outputs": [],
   "source": [
    "def assess_status(item: str = [\"Sensor\", \"Infuusset\", \"Reservoir\"],\n",
    "                 till_date: str = None,\n",
    "                nr_of_days: float = 0,\n",
    "                 stock: int = 0,\n",
    "                 order: int = 0,\n",
    "                 margin: float = 0.2,\n",
    "                 verbose: bool = True,\n",
    "                 item_info: pd.DataFrame = None):\n",
    "    \"\"\"\n",
    "    Calculate how many packages I need to order of a specific item, or whether the current order is sufficient,\n",
    "    or until what date the current stock or order provides.\n",
    "\n",
    "    Parameters\n",
    "    ----------\n",
    "    item\n",
    "        The diabetes item to check. One of ['Sensor', 'Infuusset', 'Reservoir'] for default item info.\n",
    "    till_date\n",
    "        Until what date do I want to make sure to have enough supply? Give in the form 'YYYY-MM-DD'.\n",
    "    nr_of_days\n",
    "        For how many days do I want to make sure to have enough supply?\n",
    "    stock\n",
    "        How many units do I've got in stock of this specific item?\n",
    "    order\n",
    "        If I want to check the current order amount: Fill in number of packages in the order.\n",
    "    margin\n",
    "        To prevent living on the edge: what's the margin to cover for item failings? As fraction.\n",
    "    verbose\n",
    "        Print output yes or no.\n",
    "    item_info\n",
    "        If I want to give a different dataframe than given in the function, give here.\n",
    "        Must follow certain structure.\n",
    "        Check the `item_info` dataframe in the function code for this structure.\n",
    "    \"\"\"\n",
    "    \n",
    "    # Check input.\n",
    "    assert margin >= 0, \"Margin should be non-negative.\"\n",
    "    assert stock >= 0, \"Stock should be non-negative.\"\n",
    "    assert nr_of_days >= 0, \"Number of days should be non-negative.\"\n",
    "    assert pd.to_datetime(till_date, errors='coerce') is not pd.NaT, \"Invalid format for till_date. Should adhere to 'YYYY-MM-DD'.\"\n",
    "    \n",
    "    # Product info.\n",
    "    if item_info is None:\n",
    "        item_info = get_item_info()\n",
    "    assert item_info is not None and not item_info.empty, \"Item info DataFrame must be provided and non-empty.\"\n",
    "\n",
    "    # Get the item's specifics.\n",
    "    days_per_unit, units_in_package, official_name = get_specifics(item_info, item)\n",
    "\n",
    "    # Determine assignment.\n",
    "    if till_date is None and nr_of_days == 0:\n",
    "        option = 1\n",
    "    elif till_date is not None or nr_of_days > 0:\n",
    "        if order == 0:\n",
    "            option = 2\n",
    "        elif order > 0:\n",
    "            option = 3\n",
    "    else:\n",
    "        # TODO break\n",
    "        print(\"errorrr does not exist.\")\n",
    "\n",
    "    # Print item info + assignment.\n",
    "    if verbose:\n",
    "        assignments = {1:\"Checking until when diabetes needs are covered...\",\n",
    "                       2:\"Calculating how many packages are needed...\",\n",
    "                       3:f\"Checking if an order with {order} package(s) is enough...\"}\n",
    "        print(f'-- Item: {item} --\\n\\nOfficial name: {official_name}.\\n{stock} units in stock.')\n",
    "        lines='\\n----------------------\\n'\n",
    "        print(lines)\n",
    "        print(assignments[option])\n",
    "        print(lines)\n",
    "\n",
    "    if option == 1:\n",
    "        # Calculate how many days are covered.\n",
    "        date_stock = until_what_date_covered(stock=stock, days_per_unit=days_per_unit,\n",
    "                                             units_in_package=units_in_package,\n",
    "                                             order=0,\n",
    "                                             margin=margin, verbose=verbose)\n",
    "        verdict = f'Current stock covers until {date_stock}.'\n",
    "            \n",
    "        if order>0:\n",
    "            date_order = until_what_date_covered(stock=stock, days_per_unit=days_per_unit,\n",
    "                                             units_in_package=units_in_package, order=order,\n",
    "                                                margin=margin, verbose=verbose)\n",
    "            verdict = verdict + f' Including order, the items cover until {date_order}.'\n",
    "\n",
    "    elif option in [2, 3]:\n",
    "        # Calculate how many days need to be covered.\n",
    "        if till_date is not None:\n",
    "            till_date, today = pd.to_datetime(till_date), pd.to_datetime('today')\n",
    "            days_needed = (till_date-today).days*(1+margin)\n",
    "            if verbose:\n",
    "                print(f'Starting date: {today.date()}\\nCovering until date: {till_date.date()}\\n{round(days_needed,1)} days to be covered.\\n{lines}')\n",
    "        if nr_of_days>0:\n",
    "            days_needed = nr_of_days\n",
    "    \n",
    "        # Calculate.\n",
    "        days_covered=stock*days_per_unit + order*units_in_package*days_per_unit\n",
    "        days_lacking=days_needed-days_covered\n",
    "        more_to_order=math.ceil(days_lacking/days_per_unit/units_in_package)\n",
    "        \n",
    "        if verbose:\n",
    "            print(f'{int(days_covered)} days are covered.')\n",
    "            if days_lacking<=0:\n",
    "                print(f'Stock covers enough days with {abs(int(days_lacking))} extra days.\\n')\n",
    "            else:\n",
    "                print(f'{int(days_lacking)} days are not covered in this order.\\n' if order>0 else f'{int(days_lacking)} more days need to be covered.\\n')\n",
    "        \n",
    "        # State how much more is needed.\n",
    "        if order>0:\n",
    "            verdict='Order is sufficient' if days_lacking<=0 else f'Not enough: {more_to_order} more package(s) needed.'\n",
    "        else:\n",
    "            verdict=f\"{'Stock is sufficient' if days_lacking<=0 else f'Order must contain at least {more_to_order} package(s).'}\"\n",
    "    else:\n",
    "        print(\"errorrorror smth's wrong\")\n",
    "    \n",
    "    return verdict"
   ]
  },
  {
   "cell_type": "markdown",
   "id": "6332c621-de0e-4f6f-9b30-4ebd729cbb31",
   "metadata": {},
   "source": [
    "## Tests"
   ]
  },
  {
   "cell_type": "code",
   "execution_count": 7,
   "id": "3b20d681-bde3-447a-b970-2ba11addcd79",
   "metadata": {},
   "outputs": [
    {
     "name": "stdout",
     "output_type": "stream",
     "text": [
      "-- Item: Sensor --\n",
      "\n",
      "Official name: Guardian Sensor 4.\n",
      "10 units in stock.\n",
      "\n",
      "----------------------\n",
      "\n",
      "Checking until when diabetes needs are covered...\n",
      "\n",
      "----------------------\n",
      "\n",
      "56 days are covered by stock.\n"
     ]
    },
    {
     "data": {
      "text/plain": [
       "'Current stock covers until 14-06-2024.'"
      ]
     },
     "execution_count": 7,
     "metadata": {},
     "output_type": "execute_result"
    }
   ],
   "source": [
    "assess_status(item = \"Sensor\",\n",
    "                 till_date = None,\n",
    "                nr_of_days = 0,\n",
    "                 stock = 10,\n",
    "                 order = 0,\n",
    "                 margin = 0.2,\n",
    "                 verbose = True,\n",
    "                 item_info = None)"
   ]
  },
  {
   "cell_type": "code",
   "execution_count": 110,
   "id": "f2265f17-c7f1-47e8-9483-8ba0004e5814",
   "metadata": {},
   "outputs": [
    {
     "name": "stdout",
     "output_type": "stream",
     "text": [
      "-- Item: Infuusset --\n",
      "\n",
      "Official name: Mio Advance 6mm 60cm.\n",
      "10 units in stock.\n",
      "\n",
      "----------------------\n",
      "\n",
      "Checking until when diabetes needs are covered...\n",
      "\n",
      "----------------------\n",
      "\n",
      "24 days are covered by stock.\n"
     ]
    },
    {
     "data": {
      "text/plain": [
       "'Current stock covers until 07-05-2024.'"
      ]
     },
     "execution_count": 110,
     "metadata": {},
     "output_type": "execute_result"
    }
   ],
   "source": [
    "assess_status(item = \"Infuusset\",\n",
    "                 till_date = None,\n",
    "                nr_of_days = 0,\n",
    "                 stock = 10,\n",
    "                 order = 0,\n",
    "                 margin = 0.2,\n",
    "                 verbose = True,\n",
    "                 item_info = None)"
   ]
  },
  {
   "cell_type": "code",
   "execution_count": 111,
   "id": "b32d68e9-3600-4aac-9818-c6042247e9af",
   "metadata": {},
   "outputs": [
    {
     "name": "stdout",
     "output_type": "stream",
     "text": [
      "-- Item: Sensor --\n",
      "\n",
      "Official name: Guardian Sensor 4.\n",
      "10 units in stock.\n",
      "\n",
      "----------------------\n",
      "\n",
      "Calculating how many packages are needed...\n",
      "\n",
      "----------------------\n",
      "\n",
      "70 days are covered.\n",
      "Stock covers enough days with 56 extra days.\n",
      "\n"
     ]
    },
    {
     "data": {
      "text/plain": [
       "'Stock is sufficient'"
      ]
     },
     "execution_count": 111,
     "metadata": {},
     "output_type": "execute_result"
    }
   ],
   "source": [
    "assess_status(item = \"Sensor\",\n",
    "                 till_date = None,\n",
    "                nr_of_days = 14,\n",
    "                 stock = 10,\n",
    "                 order = 0,\n",
    "                 margin = 0.2,\n",
    "                 verbose = True,\n",
    "                 item_info = None)"
   ]
  },
  {
   "cell_type": "code",
   "execution_count": 112,
   "id": "cb02f641-061f-4330-b09e-b1cac02cba1e",
   "metadata": {},
   "outputs": [
    {
     "name": "stdout",
     "output_type": "stream",
     "text": [
      "-- Item: Sensor --\n",
      "\n",
      "Official name: Guardian Sensor 4.\n",
      "10 units in stock.\n",
      "\n",
      "----------------------\n",
      "\n",
      "Checking until when diabetes needs are covered...\n",
      "\n",
      "----------------------\n",
      "\n",
      "56 days are covered by stock.\n"
     ]
    },
    {
     "data": {
      "text/plain": [
       "'Current stock covers until 08-06-2024.'"
      ]
     },
     "execution_count": 112,
     "metadata": {},
     "output_type": "execute_result"
    }
   ],
   "source": [
    "assess_status(item = \"Sensor\",\n",
    "                 till_date = None,\n",
    "                nr_of_days = 0,\n",
    "                 stock = 10,\n",
    "                 order = 0,\n",
    "                 margin = 0.2,\n",
    "                 verbose = True,\n",
    "                 item_info = None)"
   ]
  },
  {
   "cell_type": "code",
   "execution_count": 113,
   "id": "4329cd1b-87d6-4aee-b5d8-8b3f8946d79d",
   "metadata": {},
   "outputs": [
    {
     "data": {
      "text/plain": [
       "'Current stock covers until 08-06-2024.'"
      ]
     },
     "execution_count": 113,
     "metadata": {},
     "output_type": "execute_result"
    }
   ],
   "source": [
    "assess_status(item = \"Sensor\",\n",
    "                 till_date = None,\n",
    "                nr_of_days = 0,\n",
    "                 stock = 10,\n",
    "                 order = 0,\n",
    "                 margin = 0.2,\n",
    "                 verbose = False,\n",
    "                 item_info = None)"
   ]
  },
  {
   "cell_type": "code",
   "execution_count": 114,
   "id": "06d674e0-4829-4671-9814-01501a60004a",
   "metadata": {},
   "outputs": [
    {
     "name": "stdout",
     "output_type": "stream",
     "text": [
      "-- Item: Sensor --\n",
      "\n",
      "Official name: Guardian Sensor 4.\n",
      "10 units in stock.\n",
      "\n",
      "----------------------\n",
      "\n",
      "Checking until when diabetes needs are covered...\n",
      "\n",
      "----------------------\n",
      "\n",
      "28 days are covered by stock.\n"
     ]
    },
    {
     "data": {
      "text/plain": [
       "'Current stock covers until 11-05-2024.'"
      ]
     },
     "execution_count": 114,
     "metadata": {},
     "output_type": "execute_result"
    }
   ],
   "source": [
    "assess_status(item = \"Sensor\",\n",
    "                 till_date = None,\n",
    "                nr_of_days = 0,\n",
    "                 stock = 10,\n",
    "                 order = 0,\n",
    "                 margin = 0.6,\n",
    "                 verbose = True,\n",
    "                 item_info = None)"
   ]
  },
  {
   "cell_type": "code",
   "execution_count": 117,
   "id": "b042a433-6c2b-4464-bd52-814eba4fc57e",
   "metadata": {},
   "outputs": [
    {
     "name": "stdout",
     "output_type": "stream",
     "text": [
      "-- Item: Infuusset --\n",
      "\n",
      "Official name: Mio Advance 6mm 60cm.\n",
      "10 units in stock.\n",
      "\n",
      "----------------------\n",
      "\n",
      "Calculating how many packages are needed...\n",
      "\n",
      "----------------------\n",
      "\n",
      "Starting date: 2024-04-13\n",
      "Covering until date: 2024-06-28\n",
      "90.0 days to be covered.\n",
      "\n",
      "----------------------\n",
      "\n",
      "30 days are covered.\n",
      "60 more days need to be covered.\n",
      "\n"
     ]
    },
    {
     "data": {
      "text/plain": [
       "'Order must contain at least 2 package(s).'"
      ]
     },
     "execution_count": 117,
     "metadata": {},
     "output_type": "execute_result"
    }
   ],
   "source": [
    "assess_status(item = \"Infuusset\",\n",
    "                 till_date = '2024-06-28',\n",
    "                nr_of_days = 0,\n",
    "                 stock = 10,\n",
    "                 order = 0,\n",
    "                 margin = 0.2,\n",
    "                 verbose = True,\n",
    "                 item_info = None)"
   ]
  },
  {
   "cell_type": "code",
   "execution_count": 118,
   "id": "df82e0be-0890-4ac6-bbd8-c6b7366cf7a7",
   "metadata": {},
   "outputs": [
    {
     "name": "stdout",
     "output_type": "stream",
     "text": [
      "-- Item: Infuusset --\n",
      "\n",
      "Official name: Mio Advance 6mm 60cm.\n",
      "5 units in stock.\n",
      "\n",
      "----------------------\n",
      "\n",
      "Checking until when diabetes needs are covered...\n",
      "\n",
      "----------------------\n",
      "\n",
      "12 days are covered by stock.\n"
     ]
    },
    {
     "data": {
      "text/plain": [
       "'Current stock covers until 25-04-2024.'"
      ]
     },
     "execution_count": 118,
     "metadata": {},
     "output_type": "execute_result"
    }
   ],
   "source": [
    "assess_status(item = \"Infuusset\", stock = 5)"
   ]
  },
  {
   "cell_type": "code",
   "execution_count": 120,
   "id": "b227e900-483c-4228-b960-2f52d0b270ec",
   "metadata": {},
   "outputs": [
    {
     "name": "stdout",
     "output_type": "stream",
     "text": [
      "-- Item: Sensor --\n",
      "\n",
      "Official name: Guardian Sensor 4.\n",
      "10 units in stock.\n",
      "\n",
      "----------------------\n",
      "\n",
      "Checking until when diabetes needs are covered...\n",
      "\n",
      "----------------------\n",
      "\n",
      "56 days are covered by stock.\n"
     ]
    },
    {
     "data": {
      "text/plain": [
       "'Current stock covers until 08-06-2024.'"
      ]
     },
     "execution_count": 120,
     "metadata": {},
     "output_type": "execute_result"
    }
   ],
   "source": [
    "assess_status(item = \"Sensor\", stock = 10)"
   ]
  },
  {
   "cell_type": "code",
   "execution_count": 6,
   "id": "9b3bae72-9b19-484f-a921-282c99bb2965",
   "metadata": {},
   "outputs": [
    {
     "name": "stdout",
     "output_type": "stream",
     "text": [
      "-- Item: Infuusset --\n",
      "\n",
      "Official name: Mio Advance 6mm 60cm.\n",
      "12 units in stock.\n",
      "\n",
      "----------------------\n",
      "\n",
      "Checking until when diabetes needs are covered...\n",
      "\n",
      "----------------------\n",
      "\n",
      "36 days are covered by stock.\n"
     ]
    },
    {
     "data": {
      "text/plain": [
       "'Current stock covers until 07-08-2024.'"
      ]
     },
     "execution_count": 6,
     "metadata": {},
     "output_type": "execute_result"
    }
   ],
   "source": [
    "assess_status(item = \"Infuusset\", stock = 12, margin=0)"
   ]
  },
  {
   "cell_type": "code",
   "execution_count": 5,
   "id": "cdb5c8ab-d29c-4231-b241-93b5de285671",
   "metadata": {},
   "outputs": [
    {
     "name": "stdout",
     "output_type": "stream",
     "text": [
      "-- Item: Reservoir --\n",
      "\n",
      "Official name: Medtr reservoir 3ml.\n",
      "12 units in stock.\n",
      "\n",
      "----------------------\n",
      "\n",
      "Calculating how many packages are needed...\n",
      "\n",
      "----------------------\n",
      "\n",
      "Starting date: 2024-07-02\n",
      "Covering until date: 2024-09-25\n",
      "84 days to be covered.\n",
      "\n",
      "----------------------\n",
      "\n",
      "36 days are covered.\n",
      "48 more days need to be covered.\n",
      "\n"
     ]
    },
    {
     "data": {
      "text/plain": [
       "'Order must contain at least 2 package(s).'"
      ]
     },
     "execution_count": 5,
     "metadata": {},
     "output_type": "execute_result"
    }
   ],
   "source": [
    "assess_status(item = \"Reservoir\",\n",
    "                 till_date = '2024-09-25',\n",
    "                 stock = 12,\n",
    "                 margin = 0,\n",
    "                 verbose = True)"
   ]
  },
  {
   "cell_type": "markdown",
   "id": "ecf92db7-6fac-4d8f-8de3-81036d774c79",
   "metadata": {},
   "source": [
    "## Deprecated"
   ]
  },
  {
   "cell_type": "code",
   "execution_count": null,
   "id": "8238f9fe-d5f0-4e9c-b177-562c06f7dad6",
   "metadata": {},
   "outputs": [],
   "source": [
    "def how_many_needed(item: str = [\"Sensor\", \"Infuusset\", \"Reservoir\"],\n",
    "                 till_date: str = None,\n",
    "                    nr_of_days: float = None,\n",
    "                 stock: int = 0,\n",
    "                 order: int = 0,\n",
    "                 margin: float = 0.2,\n",
    "                 verbose: bool = True,\n",
    "                 item_info: pd.DataFrame = None\n",
    "                        ):\n",
    "    \"\"\"\n",
    "    Calculate how many packages I need to order of a specific item, or whether the current order is sufficient.\n",
    "\n",
    "    Parameters\n",
    "    ----------\n",
    "    item\n",
    "        The diabetes item to check. One of ['Sensor', 'Infuusset', 'Reservoir'].\n",
    "    till_date\n",
    "        Until what date do I want to make sure to have enough supply? Give in the form 'YYYY-MM-DD'.\n",
    "    nr_of_days\n",
    "        For how many days do I want to make sure to have enough supply?\n",
    "    stock\n",
    "        How many units do I've got in stock of this specific item?\n",
    "    order\n",
    "        If I want to check the current order amount: Fill in number of packages in the order.\n",
    "    margin\n",
    "        To prevent living on the edge: what's the margin to cover for item failings? As fraction.\n",
    "    verbose\n",
    "        Print output yes or no.\n",
    "    item_info\n",
    "        If I want to give a different dataframe than given in the function, give here.\n",
    "        Must follow certain structure.\n",
    "        Check the `item_info` dataframe in the function code for this structure.\n",
    "    \"\"\"\n",
    "\n",
    "    # Check input.\n",
    "    assert margin >= 0, \"Margin should be non-negative.\"\n",
    "    assert stock >= 0, \"Stock should be non-negative.\"\n",
    "    assert pd.to_datetime(till_date, errors='coerce') is not pd.NaT, \"Invalid format for till_date. Should adhere to 'YYYY-MM-DD'.\"\n",
    "    assert nr_of_days is not None or till_date is not None, \"Give either the number of days you want to cover or until which date you want to be covered.\"\n",
    "\n",
    "    # Background info.\n",
    "    if item_info is None:\n",
    "        item_info = get_item_info()\n",
    "    assert item_info is not None and not item_info.empty, \"Item info DataFrame must be provided and non-empty.\"\n",
    "    \n",
    "    # Get the item's specifics.\n",
    "    days_per_unit, units_in_package, official_name = get_specifics(item_info, item)\n",
    "    \n",
    "    if verbose:\n",
    "        print(f'-- Item: {item} --\\n\\nOfficial name: {official_name}.\\n{stock} units in stock.')\n",
    "        if order>0:\n",
    "            print(f'\\nChecking if an order with {order} package(s) is enough...')\n",
    "        else:\n",
    "            print('\\nCalculating how many packages are needed...')\n",
    "        lines='----------------------'\n",
    "        print(lines)\n",
    "    \n",
    "    # Calculate how many days need to be covered.\n",
    "    if till_date is not None:\n",
    "        till_date, today = pd.to_datetime(till_date), pd.to_datetime('today')\n",
    "        days_needed = (till_date-today).days*(1+margin)\n",
    "        if verbose:\n",
    "            print(f'Starting date: {today.date()}\\nCovering until date: {till_date.date()}\\n{round(days_needed,1)} days to be covered.\\n{lines}')\n",
    "    if nr_of_days is not None:\n",
    "        days_needed = nr_of_days\n",
    "\n",
    "    # Calculate.\n",
    "    days_covered=stock*days_per_unit + (order*units_in_package*days_per_unit if order>0 else 0)\n",
    "    days_lacking=days_needed-days_covered\n",
    "    more_to_order=math.ceil(days_lacking/days_per_unit/units_in_package)\n",
    "    \n",
    "    if verbose:\n",
    "        print(f'{int(days_covered)} days are covered.')\n",
    "        if days_lacking<=0:\n",
    "            print(f'Stock covers enough days with {abs(int(days_lacking))} extra days.\\n')\n",
    "        else:\n",
    "            print(f'{int(days_lacking)} days are not covered in this order.\\n' if order>0 else f'{int(days_lacking)} more days need to be covered.\\n')\n",
    "    \n",
    "    # State how much more is needed.\n",
    "    if order>0:\n",
    "        verdict='Order is sufficient' if days_lacking<=0 else f'Not enough: {more_to_order} more package(s) needed.'\n",
    "    else:\n",
    "        verdict=f\"{'Stock is sufficient' if days_lacking<=0 else f'Order must contain at least {more_to_order} package(s).'}\"\n",
    "\n",
    "    return verdict"
   ]
  },
  {
   "cell_type": "code",
   "execution_count": null,
   "id": "95389e5a-5fac-454c-9c8e-a04195a855a5",
   "metadata": {},
   "outputs": [],
   "source": [
    "def until_when_covered(item: str = [\"Sensor\", \"Infuusset\", \"Reservoir\"],\n",
    "                 stock: int = 0,\n",
    "                 order: int = 0,\n",
    "                 margin: float = 0.2,\n",
    "                 verbose: bool = True,\n",
    "                 item_info: pd.DataFrame = None):\n",
    "    \"\"\"\n",
    "\n",
    "    \"\"\"\n",
    "    \n",
    "    # Check input.\n",
    "    assert margin >= 0, \"Margin should be non-negative.\"\n",
    "    assert stock >= 0, \"Stock should be non-negative.\"\n",
    "\n",
    "    # Background info.\n",
    "    if item_info is None:\n",
    "        item_info = get_item_info()\n",
    "    assert item_info is not None and not item_info.empty, \"Item info DataFrame must be provided and non-empty.\"\n",
    "    \n",
    "    # Get the item's specifics.\n",
    "    days_per_unit, units_in_package, official_name = get_specifics(item_info, item)\n",
    "    \n",
    "    if verbose:\n",
    "        print(f'-- Item: {item} --\\n\\nOfficial name: {official_name}.\\n{stock} units in stock.')\n",
    "        lines='\\n----------------------\\n'\n",
    "        print(lines)\n",
    "        if order>0:\n",
    "            print(f'Checking until when stock+order covers diabetes needs...')\n",
    "        else:\n",
    "            print('Checking until when stock covers diabetes needs...')\n",
    "        print(lines)\n",
    "    \n",
    "    # Calculate how many days are covered.\n",
    "    date_stock = until_what_date_covered(stock=stock, days_per_unit=days_per_unit,\n",
    "                                         units_in_package=units_in_package,\n",
    "                                         order=0,\n",
    "                                         margin=margin, verbose=verbose)\n",
    "    verdict = f'Current stock covers until {date_stock}.'\n",
    "        \n",
    "    if order>0:\n",
    "        date_order = until_what_date_covered(stock=stock, days_per_unit=days_per_unit,\n",
    "                                         units_in_package=units_in_package, order=order,\n",
    "                                            margin=margin, verbose=verbose)\n",
    "        verdict = verdict + f' Including order, the items cover until {date_order}.'\n",
    "\n",
    "    return verdict"
   ]
  }
 ],
 "metadata": {
  "kernelspec": {
   "display_name": "Python (analysis)",
   "language": "python",
   "name": "analysis"
  },
  "language_info": {
   "codemirror_mode": {
    "name": "ipython",
    "version": 3
   },
   "file_extension": ".py",
   "mimetype": "text/x-python",
   "name": "python",
   "nbconvert_exporter": "python",
   "pygments_lexer": "ipython3",
   "version": "3.12.2"
  }
 },
 "nbformat": 4,
 "nbformat_minor": 5
}
