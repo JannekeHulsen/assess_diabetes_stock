{
 "cells": [
  {
   "cell_type": "markdown",
   "id": "80d46080-77b9-4480-96df-929fea7b824d",
   "metadata": {},
   "source": [
    "# Hoeveel te bestellen."
   ]
  },
  {
   "cell_type": "code",
   "execution_count": 10,
   "id": "c2f72331-ea62-4ca5-925f-373070892ace",
   "metadata": {},
   "outputs": [],
   "source": [
    "import pandas as pd\n",
    "import math\n",
    "\n",
    "def how_many_needed(item: str = [\"Sensor\", \"Infuusset\", \"Reservoir\"],\n",
    "                 till_date: str = None,\n",
    "                    nr_of_days: float = None,\n",
    "                 stock: int = 0,\n",
    "                 order: int = None,\n",
    "                 margin: float = 0.2,\n",
    "                 verbose: bool = True,\n",
    "                 item_info: pd.DataFrame = None\n",
    "                        ):\n",
    "    \"\"\"\n",
    "    Calculate how many packages I need to order of a specific item, or whether the current order is sufficient.\n",
    "\n",
    "    Parameters\n",
    "    ----------\n",
    "    item\n",
    "        The diabetes item to check. One of ['Sensor', 'Infuusset', 'Reservoir'].\n",
    "    till_date\n",
    "        Until what date do I want to make sure to have enough supply? Give in the form 'YYYY-MM-DD'.\n",
    "    nr_of_days\n",
    "        Until what date do I want to make sure to have enough supply? Give in the form 'YYYY-MM-DD'.\n",
    "    stock\n",
    "        How many units do I've got in stock of this specific item?\n",
    "    order\n",
    "        If I want to check the current order amount: Fill in number of packages in the order.\n",
    "    margin\n",
    "        To prevent living on the edge: what's the margin to cover for item failings? As fraction.\n",
    "    verbose\n",
    "        Print output yes or no.\n",
    "    item_info\n",
    "        If I want to give a different dataframe than given in the function, give here.\n",
    "        Must follow certain structure.\n",
    "        Check the `item_info` dataframe in the function code for this structure.\n",
    "    \"\"\"\n",
    "\n",
    "    # Check input.\n",
    "    assert margin >= 0, \"Margin should be non-negative.\"\n",
    "    assert stock >= 0, \"Stock should be non-negative.\"\n",
    "    assert pd.to_datetime(till_date, errors='coerce') is not pd.NaT, \"Invalid format for till_date. Should adhere to 'YYYY-MM-DD'.\"\n",
    "    assert nr_of_days is not None or till_date is not None, \"Give either the number of days you want to cover or until which date you want to be covered.\"\n",
    "\n",
    "    # Background info.\n",
    "    if item_info is None:\n",
    "        item_info=pd.DataFrame({'Item':['Sensor', 'Infuusset', 'Reservoir'],\n",
    "                        'Days per unit':[7, 3, 3],\n",
    "                        'Units in package':[5,10,10],\n",
    "                        'Official name':['Guardian Sensor 4', 'Mio Advance 6mm 60cm', 'Medtr reservoir 3ml']\n",
    "                       })\n",
    "    assert item_info is not None and not item_info.empty, \"Item info DataFrame must be provided and non-empty.\"\n",
    "    \n",
    "    # Get the item's specifics.\n",
    "    specs=item_info.loc[item_info['Item'] == item].iloc[0]\n",
    "    days_per_unit, units_in_package, official_name = specs['Days per unit'], specs['Units in package'], specs['Official name']\n",
    "    assert days_per_unit > 0 and units_in_package > 0, \"Days per unit and units in package should be positive.\"\n",
    "    \n",
    "    # Whether to check the order or to calculate the minimal order.\n",
    "    check_order = order is not None\n",
    "    \n",
    "    if verbose:\n",
    "        print(f'-- Item: {item} --\\n\\nOfficial name: {official_name}.\\n{stock} units in stock.')\n",
    "        if check_order:\n",
    "            print(f'Checking if an order with {order} package(s) is enough...')\n",
    "        else:\n",
    "            print('Calculating how many packages are needed...')\n",
    "        lines='----------------------'\n",
    "        print(lines)\n",
    "    \n",
    "    # Calculate how many days need to be covered.\n",
    "    if till_date is not None:\n",
    "        till_date, today = pd.to_datetime(till_date), pd.to_datetime('today')\n",
    "        days_needed = (till_date-today).days*(1+margin)\n",
    "        if verbose:\n",
    "            print(f'Starting date: {today.date()}\\nCovering until date: {till_date.date()}\\n{round(days_needed,1)} days to be covered.\\n{lines}')\n",
    "    if nr_of_days is not None:\n",
    "        days_needed = nr_of_days\n",
    "\n",
    "    # Calculate.\n",
    "    days_covered=stock*days_per_unit + (order*units_in_package*days_per_unit if check_order else 0)\n",
    "    days_lacking=days_needed-days_covered\n",
    "    more_to_order=math.ceil(days_lacking/days_per_unit/units_in_package)\n",
    "    \n",
    "    if verbose:\n",
    "        print(f'{int(days_covered)} days are covered.')\n",
    "        if days_lacking<=0:\n",
    "            print(f'Stock covers enough days with {abs(int(days_lacking))} extra days.\\n')\n",
    "        else:\n",
    "            print(f'{int(days_lacking)} days are not covered in this order.\\n' if check_order else f'{int(days_lacking)} more days need to be covered.\\n')\n",
    "    \n",
    "    # State how much more is needed.\n",
    "    if check_order:\n",
    "        verdict='Order is sufficient' if days_lacking<=0 else f'Not enough: {more_to_order} more package(s) needed.'\n",
    "    else:\n",
    "        verdict=f\"{'Stock is sufficient' if days_lacking<=0 else f'Order must contain at least {more_to_order} package(s).'}\"\n",
    "\n",
    "    return verdict"
   ]
  },
  {
   "cell_type": "code",
   "execution_count": 11,
   "id": "0eb2ef76-2b0f-4220-bc20-0ec840faca85",
   "metadata": {},
   "outputs": [
    {
     "name": "stdout",
     "output_type": "stream",
     "text": [
      "-- Item: Infuusset --\n",
      "\n",
      "Official name: Mio Advance 6mm 60cm.\n",
      "54 units in stock.\n",
      "Calculating how many packages are needed...\n",
      "----------------------\n",
      "Starting date: 2024-04-13\n",
      "Covering until date: 2024-04-02\n",
      "-14.4 days to be covered.\n",
      "----------------------\n",
      "162 days are covered.\n",
      "Stock covers enough days with 176 extra days.\n",
      "\n"
     ]
    },
    {
     "data": {
      "text/plain": [
       "'Stock is sufficient'"
      ]
     },
     "execution_count": 11,
     "metadata": {},
     "output_type": "execute_result"
    }
   ],
   "source": [
    "how_many_needed(item='Infuusset', till_date='2024-04-02', stock=54)"
   ]
  },
  {
   "cell_type": "code",
   "execution_count": 6,
   "id": "7a497331-0871-400a-9cce-46759ba7c410",
   "metadata": {},
   "outputs": [
    {
     "name": "stdout",
     "output_type": "stream",
     "text": [
      "-- Item: Infuusset --\n",
      "\n",
      "Official name: Mio Advance 6mm 60cm.\n",
      "5 units in stock.\n",
      "Calculating how many packages are needed...\n",
      "----------------------\n",
      "15 days are covered.\n",
      "Stock covers enough days with 8 extra days.\n",
      "\n"
     ]
    },
    {
     "data": {
      "text/plain": [
       "'Stock is sufficient'"
      ]
     },
     "execution_count": 6,
     "metadata": {},
     "output_type": "execute_result"
    }
   ],
   "source": [
    "how_many_needed(item='Infuusset', nr_of_days=7, stock=5)"
   ]
  },
  {
   "cell_type": "code",
   "execution_count": null,
   "id": "11a73c9f-f5d7-4f8d-af4c-d1a4e0dc0aab",
   "metadata": {},
   "outputs": [],
   "source": []
  },
  {
   "cell_type": "code",
   "execution_count": null,
   "id": "1783514b-7bfe-47e7-88b6-b7c579834166",
   "metadata": {},
   "outputs": [],
   "source": []
  }
 ],
 "metadata": {
  "kernelspec": {
   "display_name": "Python (analysis)",
   "language": "python",
   "name": "analysis"
  },
  "language_info": {
   "codemirror_mode": {
    "name": "ipython",
    "version": 3
   },
   "file_extension": ".py",
   "mimetype": "text/x-python",
   "name": "python",
   "nbconvert_exporter": "python",
   "pygments_lexer": "ipython3",
   "version": "3.12.2"
  }
 },
 "nbformat": 4,
 "nbformat_minor": 5
}
