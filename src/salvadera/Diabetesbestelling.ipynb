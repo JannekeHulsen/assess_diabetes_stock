{
 "cells": [
  {
   "cell_type": "markdown",
   "id": "80d46080-77b9-4480-96df-929fea7b824d",
   "metadata": {},
   "source": [
    "# Hoeveel te bestellen."
   ]
  },
  {
   "cell_type": "code",
   "execution_count": 95,
   "id": "c2f72331-ea62-4ca5-925f-373070892ace",
   "metadata": {},
   "outputs": [],
   "source": [
    "import pandas as pd\n",
    "import math\n",
    "\n",
    "def get_item_info():\n",
    "    item_info=pd.DataFrame({'Item':['Sensor', 'Infuusset', 'Reservoir'],\n",
    "                    'Days per unit':[7, 3, 3],\n",
    "                    'Units in package':[5,10,10],\n",
    "                    'Official name':['Guardian Sensor 4', 'Mio Advance 6mm 60cm', 'Medtr reservoir 3ml']\n",
    "                   })\n",
    "    return item_info\n",
    "\n",
    "def get_specifics(item_info, item):\n",
    "    specs = item_info.loc[item_info['Item'] == item].iloc[0]\n",
    "    days_per_unit, units_in_package, official_name = specs['Days per unit'], specs['Units in package'], specs['Official name']\n",
    "    \n",
    "    assert days_per_unit > 0 and units_in_package > 0, \"Days per unit and units in package should be positive.\"\n",
    "    \n",
    "    return days_per_unit, units_in_package, official_name\n",
    "\n",
    "def until_what_date_covered(stock:int,\n",
    "                            days_per_unit:float,\n",
    "                            units_in_package:int,\n",
    "                            order:int=0,\n",
    "                            margin:float=0.2,\n",
    "                            verbose:bool = True):\n",
    "    \n",
    "    days_covered = (stock*days_per_unit + order*units_in_package*days_per_unit)*(1-margin)\n",
    "    final_date = pd.to_datetime('today') + pd.DateOffset(days=days_covered)\n",
    "    final_date = final_date.strftime(\"%d-%m-%Y\")\n",
    "    \n",
    "    if verbose:\n",
    "        addition = ' including order' if order>0 else ''\n",
    "        print(f'{int(days_covered)} days are covered by stock{addition}.')\n",
    "    return final_date\n",
    "\n",
    "def how_many_needed(item: str = [\"Sensor\", \"Infuusset\", \"Reservoir\"],\n",
    "                 till_date: str = None,\n",
    "                    nr_of_days: float = None,\n",
    "                 stock: int = 0,\n",
    "                 order: int = 0,\n",
    "                 margin: float = 0.2,\n",
    "                 verbose: bool = True,\n",
    "                 item_info: pd.DataFrame = None\n",
    "                        ):\n",
    "    \"\"\"\n",
    "    Calculate how many packages I need to order of a specific item, or whether the current order is sufficient.\n",
    "\n",
    "    Parameters\n",
    "    ----------\n",
    "    item\n",
    "        The diabetes item to check. One of ['Sensor', 'Infuusset', 'Reservoir'].\n",
    "    till_date\n",
    "        Until what date do I want to make sure to have enough supply? Give in the form 'YYYY-MM-DD'.\n",
    "    nr_of_days\n",
    "        For how many days do I want to make sure to have enough supply?\n",
    "    stock\n",
    "        How many units do I've got in stock of this specific item?\n",
    "    order\n",
    "        If I want to check the current order amount: Fill in number of packages in the order.\n",
    "    margin\n",
    "        To prevent living on the edge: what's the margin to cover for item failings? As fraction.\n",
    "    verbose\n",
    "        Print output yes or no.\n",
    "    item_info\n",
    "        If I want to give a different dataframe than given in the function, give here.\n",
    "        Must follow certain structure.\n",
    "        Check the `item_info` dataframe in the function code for this structure.\n",
    "    \"\"\"\n",
    "\n",
    "    # Check input.\n",
    "    assert margin >= 0, \"Margin should be non-negative.\"\n",
    "    assert stock >= 0, \"Stock should be non-negative.\"\n",
    "    assert pd.to_datetime(till_date, errors='coerce') is not pd.NaT, \"Invalid format for till_date. Should adhere to 'YYYY-MM-DD'.\"\n",
    "    assert nr_of_days is not None or till_date is not None, \"Give either the number of days you want to cover or until which date you want to be covered.\"\n",
    "\n",
    "    # Background info.\n",
    "    if item_info is None:\n",
    "        item_info = get_item_info()\n",
    "    assert item_info is not None and not item_info.empty, \"Item info DataFrame must be provided and non-empty.\"\n",
    "    \n",
    "    # Get the item's specifics.\n",
    "    days_per_unit, units_in_package, official_name = get_specifics(item_info, item)\n",
    "    \n",
    "    if verbose:\n",
    "        print(f'-- Item: {item} --\\n\\nOfficial name: {official_name}.\\n{stock} units in stock.')\n",
    "        if order>0:\n",
    "            print(f'\\nChecking if an order with {order} package(s) is enough...')\n",
    "        else:\n",
    "            print('\\nCalculating how many packages are needed...')\n",
    "        lines='----------------------'\n",
    "        print(lines)\n",
    "    \n",
    "    # Calculate how many days need to be covered.\n",
    "    if till_date is not None:\n",
    "        till_date, today = pd.to_datetime(till_date), pd.to_datetime('today')\n",
    "        days_needed = (till_date-today).days*(1+margin)\n",
    "        if verbose:\n",
    "            print(f'Starting date: {today.date()}\\nCovering until date: {till_date.date()}\\n{round(days_needed,1)} days to be covered.\\n{lines}')\n",
    "    if nr_of_days is not None:\n",
    "        days_needed = nr_of_days\n",
    "\n",
    "    # Calculate.\n",
    "    days_covered=stock*days_per_unit + (order*units_in_package*days_per_unit if order>0 else 0)\n",
    "    days_lacking=days_needed-days_covered\n",
    "    more_to_order=math.ceil(days_lacking/days_per_unit/units_in_package)\n",
    "    \n",
    "    if verbose:\n",
    "        print(f'{int(days_covered)} days are covered.')\n",
    "        if days_lacking<=0:\n",
    "            print(f'Stock covers enough days with {abs(int(days_lacking))} extra days.\\n')\n",
    "        else:\n",
    "            print(f'{int(days_lacking)} days are not covered in this order.\\n' if order>0 else f'{int(days_lacking)} more days need to be covered.\\n')\n",
    "    \n",
    "    # State how much more is needed.\n",
    "    if order>0:\n",
    "        verdict='Order is sufficient' if days_lacking<=0 else f'Not enough: {more_to_order} more package(s) needed.'\n",
    "    else:\n",
    "        verdict=f\"{'Stock is sufficient' if days_lacking<=0 else f'Order must contain at least {more_to_order} package(s).'}\"\n",
    "\n",
    "    return verdict"
   ]
  },
  {
   "cell_type": "code",
   "execution_count": 26,
   "id": "0eb2ef76-2b0f-4220-bc20-0ec840faca85",
   "metadata": {},
   "outputs": [
    {
     "name": "stdout",
     "output_type": "stream",
     "text": [
      "-- Item: Infuusset --\n",
      "\n",
      "Official name: Mio Advance 6mm 60cm.\n",
      "54 units in stock.\n",
      "\n",
      "Calculating how many packages are needed...\n",
      "----------------------\n",
      "Starting date: 2024-04-13\n",
      "Covering until date: 2024-04-02\n",
      "-14.4 days to be covered.\n",
      "----------------------\n",
      "162 days are covered.\n",
      "Stock covers enough days with 176 extra days.\n",
      "\n"
     ]
    },
    {
     "data": {
      "text/plain": [
       "'Stock is sufficient'"
      ]
     },
     "execution_count": 26,
     "metadata": {},
     "output_type": "execute_result"
    }
   ],
   "source": [
    "how_many_needed(item='Infuusset', till_date='2024-04-02', stock=54)"
   ]
  },
  {
   "cell_type": "code",
   "execution_count": 25,
   "id": "7a497331-0871-400a-9cce-46759ba7c410",
   "metadata": {},
   "outputs": [
    {
     "name": "stdout",
     "output_type": "stream",
     "text": [
      "-- Item: Infuusset --\n",
      "\n",
      "Official name: Mio Advance 6mm 60cm.\n",
      "5 units in stock.\n",
      "\n",
      "Calculating how many packages are needed...\n",
      "----------------------\n",
      "15 days are covered.\n",
      "Stock covers enough days with 8 extra days.\n",
      "\n"
     ]
    },
    {
     "data": {
      "text/plain": [
       "'Stock is sufficient'"
      ]
     },
     "execution_count": 25,
     "metadata": {},
     "output_type": "execute_result"
    }
   ],
   "source": [
    "how_many_needed(item='Infuusset', nr_of_days=7, stock=5)"
   ]
  },
  {
   "cell_type": "code",
   "execution_count": 96,
   "id": "11a73c9f-f5d7-4f8d-af4c-d1a4e0dc0aab",
   "metadata": {},
   "outputs": [],
   "source": [
    "# TODO add margin\n",
    "def until_when_covered(item: str = [\"Sensor\", \"Infuusset\", \"Reservoir\"],\n",
    "                 stock: int = 0,\n",
    "                 order: int = 0,\n",
    "                 margin: float = 0.2,\n",
    "                 verbose: bool = True,\n",
    "                 item_info: pd.DataFrame = None):\n",
    "    \"\"\"\n",
    "    Calculate how many packages I need to order of a specific item, or whether the current order is sufficient.\n",
    "\n",
    "    Parameters\n",
    "    ----------\n",
    "    item\n",
    "        The diabetes item to check. One of ['Sensor', 'Infuusset', 'Reservoir'].\n",
    "    stock\n",
    "        How many units do I've got in stock of this specific item?\n",
    "    order\n",
    "        If I want to check the current order amount: Fill in number of packages in the order.\n",
    "    margin\n",
    "        To prevent living on the edge: what's the margin to cover for item failings? As fraction.\n",
    "        1 means: count on twice as many units needed just in case, 0 means: no margin.\n",
    "    verbose\n",
    "        Print output yes or no.\n",
    "    item_info\n",
    "        If I want to give a different dataframe than given in the function, give here.\n",
    "        Must follow certain structure.\n",
    "        Check the `item_info` dataframe in the function code for this structure.\n",
    "    \"\"\"\n",
    "    \n",
    "    # Check input.\n",
    "    assert margin >= 0, \"Margin should be non-negative.\"\n",
    "    assert stock >= 0, \"Stock should be non-negative.\"\n",
    "\n",
    "    # Background info.\n",
    "    if item_info is None:\n",
    "        item_info = get_item_info()\n",
    "    assert item_info is not None and not item_info.empty, \"Item info DataFrame must be provided and non-empty.\"\n",
    "    \n",
    "    # Get the item's specifics.\n",
    "    days_per_unit, units_in_package, official_name = get_specifics(item_info, item)\n",
    "    \n",
    "    if verbose:\n",
    "        # TODO function\n",
    "        print(f'-- Item: {item} --\\n\\nOfficial name: {official_name}.\\n{stock} units in stock.')\n",
    "        lines='\\n----------------------\\n'\n",
    "        print(lines)\n",
    "        if order>0:\n",
    "            print(f'Checking until when stock+order covers diabetes needs...')\n",
    "        else:\n",
    "            print('Checking until when stock covers diabetes needs...')\n",
    "        print(lines)\n",
    "    \n",
    "    # Calculate how many days are covered.\n",
    "    date_stock = until_what_date_covered(stock=stock, days_per_unit=days_per_unit,\n",
    "                                         units_in_package=units_in_package,\n",
    "                                         order=0,\n",
    "                                         margin=margin, verbose=verbose)\n",
    "    verdict = f'Current stock covers until {date_stock}.'\n",
    "        \n",
    "    if order>0:\n",
    "        date_order = until_what_date_covered(stock=stock, days_per_unit=days_per_unit,\n",
    "                                         units_in_package=units_in_package, order=order,\n",
    "                                            margin=margin, verbose=verbose)\n",
    "        verdict = verdict + f' Including order, the items cover until {date_order}.'\n",
    "\n",
    "    return verdict"
   ]
  },
  {
   "cell_type": "code",
   "execution_count": 98,
   "id": "a69ddd58-60a6-4bdc-9426-fe8f24a485f6",
   "metadata": {},
   "outputs": [
    {
     "name": "stdout",
     "output_type": "stream",
     "text": [
      "-- Item: Infuusset --\n",
      "\n",
      "Official name: Mio Advance 6mm 60cm.\n",
      "5 units in stock.\n",
      "\n",
      "----------------------\n",
      "\n",
      "Checking until when stock covers diabetes needs...\n",
      "\n",
      "----------------------\n",
      "\n",
      "12 days are covered by stock.\n"
     ]
    },
    {
     "data": {
      "text/plain": [
       "'Current stock covers until 25-04-2024.'"
      ]
     },
     "execution_count": 98,
     "metadata": {},
     "output_type": "execute_result"
    }
   ],
   "source": [
    "until_when_covered(item = \"Infuusset\", stock=5, order=0)"
   ]
  },
  {
   "cell_type": "code",
   "execution_count": null,
   "id": "bad56401-cfa9-4bae-82d9-de4a42249c36",
   "metadata": {},
   "outputs": [],
   "source": []
  }
 ],
 "metadata": {
  "kernelspec": {
   "display_name": "Python (analysis)",
   "language": "python",
   "name": "analysis"
  },
  "language_info": {
   "codemirror_mode": {
    "name": "ipython",
    "version": 3
   },
   "file_extension": ".py",
   "mimetype": "text/x-python",
   "name": "python",
   "nbconvert_exporter": "python",
   "pygments_lexer": "ipython3",
   "version": "3.12.2"
  }
 },
 "nbformat": 4,
 "nbformat_minor": 5
}
